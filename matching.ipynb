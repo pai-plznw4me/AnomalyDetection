{
 "cells": [
  {
   "cell_type": "markdown",
   "metadata": {},
   "source": [
    "### Fraud User Data collection"
   ]
  },
  {
   "cell_type": "code",
   "execution_count": 23,
   "metadata": {},
   "outputs": [],
   "source": [
    "import pandas as pd \n",
    "from glob import glob\n",
    "import numpy as np\n",
    "from collections import Counter "
   ]
  },
  {
   "cell_type": "code",
   "execution_count": 2,
   "metadata": {},
   "outputs": [],
   "source": [
    "fraud_users = pd.read_csv('/Users/seongjungkim/PycharmProjects/AnomalyDetection/BLACK LIST/BLACK LIST.csv', \n",
    "                         encoding='cp1252')"
   ]
  },
  {
   "cell_type": "markdown",
   "metadata": {},
   "source": [
    "#### IP_ADDRESS , BLOCKED_IP_ADDRESS 은 모두 fraud ip 임으로 2개의 ip 을 모두 가져온다"
   ]
  },
  {
   "cell_type": "code",
   "execution_count": 3,
   "metadata": {},
   "outputs": [],
   "source": [
    "fraud_users_ip = pd.concat([fraud_users.IP_ADDRESS, fraud_users.BLOCKED_IP_ADDRESS])\n"
   ]
  },
  {
   "cell_type": "code",
   "execution_count": 4,
   "metadata": {},
   "outputs": [
    {
     "name": "stdout",
     "output_type": "stream",
     "text": [
      "# log : 26488\n",
      "# Fraud ip : 8559\n"
     ]
    }
   ],
   "source": [
    "print('# log : {}'.format(len(fraud_users_ip.values)))\n",
    "fraud_count = Counter(fraud_users_ip.values)\n",
    "fraud_users_ip = set(fraud_users_ip.values)\n",
    "print('# Fraud ip : {}'.format(len(fraud_users_ip)))"
   ]
  },
  {
   "cell_type": "code",
   "execution_count": 5,
   "metadata": {},
   "outputs": [],
   "source": [
    "# ip 데이터가 [xxx.xxx.xxx.xxx] 이런 형태로 되어 있어 \"[\" , \"]\" 을 제거 합니다.\n",
    "preproc_fraud_ip = [str(line).replace(' ', '').replace(']', '').replace('[', '') for line in list(set(fraud_users_ip))]\n",
    "preproc_fraud_ip = set(fraud_users_ip)"
   ]
  },
  {
   "cell_type": "markdown",
   "metadata": {},
   "source": [
    "### Extract All Log IP\n"
   ]
  },
  {
   "cell_type": "code",
   "execution_count": 6,
   "metadata": {},
   "outputs": [
    {
     "name": "stdout",
     "output_type": "stream",
     "text": [
      "File Name : ./payment-11-logs/payment-11-logs/payment-202005.txt # Logs : 92397\n",
      "File Name : ./payment-11-logs/payment-11-logs/payment-202004.txt # Logs : 96514\n",
      "File Name : ./payment-11-logs/payment-11-logs/payment-201910.txt # Logs : 107906\n",
      "File Name : ./payment-11-logs/payment-11-logs/payment-202001.txt # Logs : 126764\n",
      "File Name : ./payment-11-logs/payment-11-logs/payment-201911.txt # Logs : 159671\n",
      "File Name : ./payment-11-logs/payment-11-logs/payment-201907.txt # Logs : 62621\n",
      "File Name : ./payment-11-logs/payment-11-logs/payment-202003.txt # Logs : 92450\n",
      "File Name : ./payment-11-logs/payment-11-logs/payment-202002.txt # Logs : 113469\n",
      "File Name : ./payment-11-logs/payment-11-logs/payment-201912.txt # Logs : 167541\n",
      "File Name : ./payment-11-logs/payment-11-logs/payment-201908.txt # Logs : 97529\n",
      "File Name : ./payment-11-logs/payment-11-logs/payment-201909.txt # Logs : 77239\n",
      "ip 개 수 85550\n"
     ]
    }
   ],
   "source": [
    "\"\"\"\n",
    "Cell : 각 파일별 [계층 구조 상] Feature 개 수 측정\n",
    "\"\"\"\n",
    "\n",
    "files = glob('./payment-11-logs/payment-11-logs/*')\n",
    "total_logs = 0\n",
    "global_ip = []\n",
    "for file in files:\n",
    "    # open file \n",
    "    f = open(file, encoding='UTF-8')\n",
    "    \n",
    "    # read all lines from file \n",
    "    lines = f.readlines()\n",
    "\n",
    "    # total log line count \n",
    "    total_logs += len(lines)\n",
    "    \n",
    "    # 각 line 별로 Feature 개 수를 파악함. 개 수 파악후 ip 순서대로 을 수집\n",
    "    for line in lines:\n",
    "        features = line.split('\\t')\n",
    "\n",
    "        # 각 Log Data 개 수 별로 따로 로그를 저장함. \n",
    "        # 아래 셀에서 Test 코드를 작성 하기 위함. \n",
    "        if len(features) == 5:\n",
    "            global_ip.append(features[1])\n",
    "        elif len(features) == 7:\n",
    "            global_ip.append(features[2])\n",
    "        else:\n",
    "            pass;\n",
    "\n",
    "    print('File Name : {} # Logs : {}'.format(file, len(lines)))    \n",
    "\n",
    "print('ip 개 수 {}'.format(len(set(global_ip))))\n"
   ]
  },
  {
   "cell_type": "markdown",
   "metadata": {},
   "source": [
    "### Preprocessing"
   ]
  },
  {
   "cell_type": "code",
   "execution_count": 7,
   "metadata": {},
   "outputs": [],
   "source": [
    "preproc_all_ip = [line.replace(' ', '').replace(']', '').replace('[', '') for line in list(set(global_ip)) ]\n",
    "preproc_all_ip = set(preproc_all_ip)"
   ]
  },
  {
   "cell_type": "markdown",
   "metadata": {},
   "source": [
    "### 모든 로그의 ip 와 Fraud 로그의 ip 가 겹치는 아이디를 파악한다.\n"
   ]
  },
  {
   "cell_type": "code",
   "execution_count": 8,
   "metadata": {},
   "outputs": [
    {
     "data": {
      "text/plain": [
       "4698"
      ]
     },
     "execution_count": 8,
     "metadata": {},
     "output_type": "execute_result"
    }
   ],
   "source": [
    "len(preproc_fraud_ip & preproc_all_ip)"
   ]
  },
  {
   "cell_type": "markdown",
   "metadata": {},
   "source": [
    "### 한줄로 핀 데이터 로그를 불러 옵니다. \n"
   ]
  },
  {
   "cell_type": "code",
   "execution_count": 9,
   "metadata": {
    "scrolled": true
   },
   "outputs": [
    {
     "name": "stderr",
     "output_type": "stream",
     "text": [
      "/Users/seongjungkim/anaconda3/envs/python3/lib/python3.6/site-packages/IPython/core/interactiveshell.py:3057: DtypeWarning: Columns (1,3,6,10,11,13,17,18,19,20,21,22,23,24,25,28,35,36,37,38,39,40) have mixed types.Specify dtype option on import or set low_memory=False.\n",
      "  interactivity=interactivity, compiler=compiler, result=result)\n"
     ]
    }
   ],
   "source": [
    "data_path = '/Users/seongjungkim/Downloads/isfraud.csv'\n",
    "df = pd.read_csv(data_path)"
   ]
  },
  {
   "cell_type": "markdown",
   "metadata": {},
   "source": [
    "### black list 에 있는 ip 와 match 이 되는 ip 표기 "
   ]
  },
  {
   "cell_type": "code",
   "execution_count": 55,
   "metadata": {},
   "outputs": [],
   "source": [
    "# ip element 에 있는 '[' ']' 및 공백을 제거 \n",
    "def ip_preproc(x):\n",
    "    return x.replace('[','').replace(']','').replace(' ', '')\n",
    "df.ip = df.loc[:, df.columns == 'ip'].apply(np.vectorize(ip_preproc))"
   ]
  },
  {
   "cell_type": "code",
   "execution_count": 56,
   "metadata": {},
   "outputs": [],
   "source": [
    "df.isfraud = False\n",
    "mask = df.ip.isin(fraud_users_ip)"
   ]
  },
  {
   "cell_type": "code",
   "execution_count": 60,
   "metadata": {},
   "outputs": [
    {
     "data": {
      "text/plain": [
       "False    1083286\n",
       "True      110170\n",
       "Name: ip, dtype: int64"
      ]
     },
     "execution_count": 60,
     "metadata": {},
     "output_type": "execute_result"
    }
   ],
   "source": [
    "# 겹치는 ip 확인\n",
    "mask.value_counts()"
   ]
  },
  {
   "cell_type": "code",
   "execution_count": 58,
   "metadata": {
    "scrolled": true
   },
   "outputs": [
    {
     "name": "stderr",
     "output_type": "stream",
     "text": [
      "/Users/seongjungkim/anaconda3/envs/python3/lib/python3.6/site-packages/ipykernel_launcher.py:1: SettingWithCopyWarning: \n",
      "A value is trying to be set on a copy of a slice from a DataFrame\n",
      "\n",
      "See the caveats in the documentation: https://pandas.pydata.org/pandas-docs/stable/user_guide/indexing.html#returning-a-view-versus-a-copy\n",
      "  \"\"\"Entry point for launching an IPython kernel.\n"
     ]
    }
   ],
   "source": [
    "df.isfraud[mask] = True"
   ]
  },
  {
   "cell_type": "markdown",
   "metadata": {},
   "source": [
    "#### 사기 표시가 된 DataFrame 저장"
   ]
  },
  {
   "cell_type": "code",
   "execution_count": 63,
   "metadata": {},
   "outputs": [],
   "source": [
    "df.to_csv(\"merged_fraud_ip.csv\", mode='w')"
   ]
  }
 ],
 "metadata": {
  "kernelspec": {
   "display_name": "python3",
   "language": "python",
   "name": "python3"
  },
  "language_info": {
   "codemirror_mode": {
    "name": "ipython",
    "version": 3
   },
   "file_extension": ".py",
   "mimetype": "text/x-python",
   "name": "python",
   "nbconvert_exporter": "python",
   "pygments_lexer": "ipython3",
   "version": "3.6.8"
  }
 },
 "nbformat": 4,
 "nbformat_minor": 2
}
