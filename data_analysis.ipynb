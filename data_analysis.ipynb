{
 "cells": [
  {
   "cell_type": "markdown",
   "metadata": {},
   "source": [
    "### TODO \n",
    "- Phone 이름으로 Feature 을 분류 \n",
    "- ip 로 Feature 을 분류\n",
    "- regDate, regTime, uptDate, uptTime 에 대한 시간 관계성 파악하기"
   ]
  },
  {
   "cell_type": "code",
   "execution_count": 23,
   "metadata": {},
   "outputs": [],
   "source": [
    "import pandas as pd \n",
    "import numpy as np \n",
    "import matplotlib.pyplot as plt "
   ]
  },
  {
   "cell_type": "code",
   "execution_count": 5,
   "metadata": {
    "scrolled": true
   },
   "outputs": [
    {
     "name": "stderr",
     "output_type": "stream",
     "text": [
      "/Users/seongjungkim/anaconda3/envs/python3/lib/python3.6/site-packages/IPython/core/interactiveshell.py:3057: DtypeWarning: Columns (73,75,78,82,83,85,89,90,91,92,93,94,95,96,97,100,107,108,109,110,111) have mixed types.Specify dtype option on import or set low_memory=False.\n",
      "  interactivity=interactivity, compiler=compiler, result=result)\n",
      "/Users/seongjungkim/anaconda3/envs/python3/lib/python3.6/site-packages/numpy/lib/arraysetops.py:580: FutureWarning: elementwise comparison failed; returning scalar instead, but in the future will perform elementwise comparison\n",
      "  mask |= (ar1 == a)\n"
     ]
    }
   ],
   "source": [
    "df = pd.read_csv('final_df.csv', index_col = 'Unnamed: 0')\n"
   ]
  },
  {
   "cell_type": "code",
   "execution_count": 214,
   "metadata": {},
   "outputs": [
    {
     "data": {
      "text/html": [
       "<div>\n",
       "<style scoped>\n",
       "    .dataframe tbody tr th:only-of-type {\n",
       "        vertical-align: middle;\n",
       "    }\n",
       "\n",
       "    .dataframe tbody tr th {\n",
       "        vertical-align: top;\n",
       "    }\n",
       "\n",
       "    .dataframe thead th {\n",
       "        text-align: right;\n",
       "    }\n",
       "</style>\n",
       "<table border=\"1\" class=\"dataframe\">\n",
       "  <thead>\n",
       "    <tr style=\"text-align: right;\">\n",
       "      <th></th>\n",
       "      <th>buyTotAmt</th>\n",
       "      <th>discountAmt</th>\n",
       "      <th>limitStartDate</th>\n",
       "      <th>limitEndDate</th>\n",
       "      <th>mmsTitle</th>\n",
       "      <th>mmsSendMsg</th>\n",
       "      <th>goodsDispSeq</th>\n",
       "      <th>goodsComName</th>\n",
       "      <th>goodsSeq</th>\n",
       "      <th>goodsName</th>\n",
       "      <th>...</th>\n",
       "      <th>isFraudBlack</th>\n",
       "      <th>comBuyRealTimeSendHistVOList</th>\n",
       "      <th>comBuyResSendHistVOList</th>\n",
       "      <th>clientIP</th>\n",
       "      <th>userAgent</th>\n",
       "      <th>openMarketOrderId</th>\n",
       "      <th>openMarketItemId</th>\n",
       "      <th>isInstallment</th>\n",
       "      <th>optionalResponse</th>\n",
       "      <th>isfraud</th>\n",
       "    </tr>\n",
       "  </thead>\n",
       "  <tbody>\n",
       "    <tr>\n",
       "      <th>0</th>\n",
       "      <td>3000.000</td>\n",
       "      <td>-2775.0</td>\n",
       "      <td>20190703</td>\n",
       "      <td>20190901</td>\n",
       "      <td>NaN</td>\n",
       "      <td>I love you.</td>\n",
       "      <td>10063</td>\n",
       "      <td>Flower Chimp Inc.</td>\n",
       "      <td>G00000004166</td>\n",
       "      <td>P250 Worth Voucher</td>\n",
       "      <td>...</td>\n",
       "      <td>NaN</td>\n",
       "      <td>NaN</td>\n",
       "      <td>NaN</td>\n",
       "      <td>NaN</td>\n",
       "      <td>NaN</td>\n",
       "      <td>NaN</td>\n",
       "      <td>NaN</td>\n",
       "      <td>NaN</td>\n",
       "      <td>NaN</td>\n",
       "      <td>False</td>\n",
       "    </tr>\n",
       "    <tr>\n",
       "      <th>1</th>\n",
       "      <td>3000.000</td>\n",
       "      <td>-2775.0</td>\n",
       "      <td>20190703</td>\n",
       "      <td>20190901</td>\n",
       "      <td>NaN</td>\n",
       "      <td>I love you.</td>\n",
       "      <td>10063</td>\n",
       "      <td>Flower Chimp Inc.</td>\n",
       "      <td>G00000004166</td>\n",
       "      <td>P250 Worth Voucher</td>\n",
       "      <td>...</td>\n",
       "      <td>NaN</td>\n",
       "      <td>NaN</td>\n",
       "      <td>NaN</td>\n",
       "      <td>NaN</td>\n",
       "      <td>NaN</td>\n",
       "      <td>NaN</td>\n",
       "      <td>NaN</td>\n",
       "      <td>NaN</td>\n",
       "      <td>NaN</td>\n",
       "      <td>False</td>\n",
       "    </tr>\n",
       "    <tr>\n",
       "      <th>2</th>\n",
       "      <td>3000.000</td>\n",
       "      <td>-2775.0</td>\n",
       "      <td>20190703</td>\n",
       "      <td>20190901</td>\n",
       "      <td>NaN</td>\n",
       "      <td>I love you.</td>\n",
       "      <td>10063</td>\n",
       "      <td>Flower Chimp Inc.</td>\n",
       "      <td>G00000004166</td>\n",
       "      <td>P250 Worth Voucher</td>\n",
       "      <td>...</td>\n",
       "      <td>NaN</td>\n",
       "      <td>NaN</td>\n",
       "      <td>NaN</td>\n",
       "      <td>NaN</td>\n",
       "      <td>NaN</td>\n",
       "      <td>NaN</td>\n",
       "      <td>NaN</td>\n",
       "      <td>NaN</td>\n",
       "      <td>NaN</td>\n",
       "      <td>False</td>\n",
       "    </tr>\n",
       "    <tr>\n",
       "      <th>3</th>\n",
       "      <td>35.000</td>\n",
       "      <td>0.0</td>\n",
       "      <td>20190703</td>\n",
       "      <td>20190901</td>\n",
       "      <td>NaN</td>\n",
       "      <td>Here&amp;#39;s a treat for you from Globe Sta. Mesa</td>\n",
       "      <td>7597</td>\n",
       "      <td>7-ELEVEN</td>\n",
       "      <td>G00000003067</td>\n",
       "      <td>Gulp 16oz Softdrinks</td>\n",
       "      <td>...</td>\n",
       "      <td>NaN</td>\n",
       "      <td>NaN</td>\n",
       "      <td>NaN</td>\n",
       "      <td>NaN</td>\n",
       "      <td>NaN</td>\n",
       "      <td>NaN</td>\n",
       "      <td>NaN</td>\n",
       "      <td>NaN</td>\n",
       "      <td>NaN</td>\n",
       "      <td>False</td>\n",
       "    </tr>\n",
       "    <tr>\n",
       "      <th>4</th>\n",
       "      <td>35.000</td>\n",
       "      <td>0.0</td>\n",
       "      <td>20190703</td>\n",
       "      <td>20190901</td>\n",
       "      <td>NaN</td>\n",
       "      <td>Here&amp;#39;s a treat for you from Globe Sta. Mesa</td>\n",
       "      <td>7597</td>\n",
       "      <td>7-ELEVEN</td>\n",
       "      <td>G00000003067</td>\n",
       "      <td>Gulp 16oz Softdrinks</td>\n",
       "      <td>...</td>\n",
       "      <td>NaN</td>\n",
       "      <td>NaN</td>\n",
       "      <td>NaN</td>\n",
       "      <td>NaN</td>\n",
       "      <td>NaN</td>\n",
       "      <td>NaN</td>\n",
       "      <td>NaN</td>\n",
       "      <td>NaN</td>\n",
       "      <td>NaN</td>\n",
       "      <td>False</td>\n",
       "    </tr>\n",
       "    <tr>\n",
       "      <th>...</th>\n",
       "      <td>...</td>\n",
       "      <td>...</td>\n",
       "      <td>...</td>\n",
       "      <td>...</td>\n",
       "      <td>...</td>\n",
       "      <td>...</td>\n",
       "      <td>...</td>\n",
       "      <td>...</td>\n",
       "      <td>...</td>\n",
       "      <td>...</td>\n",
       "      <td>...</td>\n",
       "      <td>...</td>\n",
       "      <td>...</td>\n",
       "      <td>...</td>\n",
       "      <td>...</td>\n",
       "      <td>...</td>\n",
       "      <td>...</td>\n",
       "      <td>...</td>\n",
       "      <td>...</td>\n",
       "      <td>...</td>\n",
       "      <td>...</td>\n",
       "    </tr>\n",
       "    <tr>\n",
       "      <th>1193451</th>\n",
       "      <td>675.000</td>\n",
       "      <td>-125.0</td>\n",
       "      <td>20190930</td>\n",
       "      <td>20191129</td>\n",
       "      <td>NaN</td>\n",
       "      <td>So glad to have you as a friend</td>\n",
       "      <td>9683</td>\n",
       "      <td>PUREGOLD</td>\n",
       "      <td>G00000003939</td>\n",
       "      <td>P500 Worth Voucher</td>\n",
       "      <td>...</td>\n",
       "      <td>NaN</td>\n",
       "      <td>NaN</td>\n",
       "      <td>NaN</td>\n",
       "      <td>NaN</td>\n",
       "      <td>Mozilla/5.0 (Linux; Android 6.0.1; SM-J7108 Bu...</td>\n",
       "      <td>NaN</td>\n",
       "      <td>NaN</td>\n",
       "      <td>NaN</td>\n",
       "      <td>NaN</td>\n",
       "      <td>False</td>\n",
       "    </tr>\n",
       "    <tr>\n",
       "      <th>1193452</th>\n",
       "      <td>675.000</td>\n",
       "      <td>-125.0</td>\n",
       "      <td>20190930</td>\n",
       "      <td>20191129</td>\n",
       "      <td>NaN</td>\n",
       "      <td>So glad to have you as a friend</td>\n",
       "      <td>9683</td>\n",
       "      <td>PUREGOLD</td>\n",
       "      <td>G00000003939</td>\n",
       "      <td>P500 Worth Voucher</td>\n",
       "      <td>...</td>\n",
       "      <td>NaN</td>\n",
       "      <td>NaN</td>\n",
       "      <td>NaN</td>\n",
       "      <td>NaN</td>\n",
       "      <td>Mozilla/5.0 (Linux; Android 6.0.1; SM-J7108 Bu...</td>\n",
       "      <td>NaN</td>\n",
       "      <td>NaN</td>\n",
       "      <td>NaN</td>\n",
       "      <td>NaN</td>\n",
       "      <td>False</td>\n",
       "    </tr>\n",
       "    <tr>\n",
       "      <th>1193453</th>\n",
       "      <td>135.000</td>\n",
       "      <td>-35.00000000000001</td>\n",
       "      <td>20190930</td>\n",
       "      <td>20200924</td>\n",
       "      <td>NaN</td>\n",
       "      <td>Don&amp;#39;t feel sad! Cheer up!</td>\n",
       "      <td>7992</td>\n",
       "      <td>7-ELEVEN.</td>\n",
       "      <td>G00000003345</td>\n",
       "      <td>CLiQQ Wallet P100</td>\n",
       "      <td>...</td>\n",
       "      <td>NaN</td>\n",
       "      <td>NaN</td>\n",
       "      <td>NaN</td>\n",
       "      <td>NaN</td>\n",
       "      <td>Mozilla/5.0 (Linux; Android 8.1.0; vivo 1801 B...</td>\n",
       "      <td>NaN</td>\n",
       "      <td>NaN</td>\n",
       "      <td>NaN</td>\n",
       "      <td>NaN</td>\n",
       "      <td>False</td>\n",
       "    </tr>\n",
       "    <tr>\n",
       "      <th>1193454</th>\n",
       "      <td>135.000</td>\n",
       "      <td>-35.0</td>\n",
       "      <td>20190930</td>\n",
       "      <td>20200924</td>\n",
       "      <td>NaN</td>\n",
       "      <td>Don&amp;#39;t feel sad! Cheer up!</td>\n",
       "      <td>7992</td>\n",
       "      <td>7-ELEVEN.</td>\n",
       "      <td>G00000003345</td>\n",
       "      <td>CLiQQ Wallet P100</td>\n",
       "      <td>...</td>\n",
       "      <td>NaN</td>\n",
       "      <td>NaN</td>\n",
       "      <td>NaN</td>\n",
       "      <td>NaN</td>\n",
       "      <td>Mozilla/5.0 (Linux; Android 8.1.0; vivo 1801 B...</td>\n",
       "      <td>NaN</td>\n",
       "      <td>NaN</td>\n",
       "      <td>NaN</td>\n",
       "      <td>NaN</td>\n",
       "      <td>False</td>\n",
       "    </tr>\n",
       "    <tr>\n",
       "      <th>1193455</th>\n",
       "      <td>135.000</td>\n",
       "      <td>-35.0</td>\n",
       "      <td>20190930</td>\n",
       "      <td>20200924</td>\n",
       "      <td>NaN</td>\n",
       "      <td>Don&amp;#39;t feel sad! Cheer up!</td>\n",
       "      <td>7992</td>\n",
       "      <td>7-ELEVEN.</td>\n",
       "      <td>G00000003345</td>\n",
       "      <td>CLiQQ Wallet P100</td>\n",
       "      <td>...</td>\n",
       "      <td>NaN</td>\n",
       "      <td>NaN</td>\n",
       "      <td>NaN</td>\n",
       "      <td>NaN</td>\n",
       "      <td>Mozilla/5.0 (Linux; Android 8.1.0; vivo 1801 B...</td>\n",
       "      <td>NaN</td>\n",
       "      <td>NaN</td>\n",
       "      <td>NaN</td>\n",
       "      <td>NaN</td>\n",
       "      <td>False</td>\n",
       "    </tr>\n",
       "  </tbody>\n",
       "</table>\n",
       "<p>1193456 rows × 111 columns</p>\n",
       "</div>"
      ],
      "text/plain": [
       "         buyTotAmt         discountAmt limitStartDate limitEndDate mmsTitle  \\\n",
       "0         3000.000             -2775.0       20190703     20190901      NaN   \n",
       "1         3000.000             -2775.0       20190703     20190901      NaN   \n",
       "2         3000.000             -2775.0       20190703     20190901      NaN   \n",
       "3           35.000                 0.0       20190703     20190901      NaN   \n",
       "4           35.000                 0.0       20190703     20190901      NaN   \n",
       "...            ...                 ...            ...          ...      ...   \n",
       "1193451    675.000              -125.0       20190930     20191129      NaN   \n",
       "1193452    675.000              -125.0       20190930     20191129      NaN   \n",
       "1193453    135.000  -35.00000000000001       20190930     20200924      NaN   \n",
       "1193454    135.000               -35.0       20190930     20200924      NaN   \n",
       "1193455    135.000               -35.0       20190930     20200924      NaN   \n",
       "\n",
       "                                              mmsSendMsg goodsDispSeq  \\\n",
       "0                                            I love you.        10063   \n",
       "1                                            I love you.        10063   \n",
       "2                                            I love you.        10063   \n",
       "3        Here&#39;s a treat for you from Globe Sta. Mesa         7597   \n",
       "4        Here&#39;s a treat for you from Globe Sta. Mesa         7597   \n",
       "...                                                  ...          ...   \n",
       "1193451                  So glad to have you as a friend         9683   \n",
       "1193452                  So glad to have you as a friend         9683   \n",
       "1193453                    Don&#39;t feel sad! Cheer up!         7992   \n",
       "1193454                    Don&#39;t feel sad! Cheer up!         7992   \n",
       "1193455                    Don&#39;t feel sad! Cheer up!         7992   \n",
       "\n",
       "              goodsComName      goodsSeq             goodsName  ...  \\\n",
       "0        Flower Chimp Inc.  G00000004166    P250 Worth Voucher  ...   \n",
       "1        Flower Chimp Inc.  G00000004166    P250 Worth Voucher  ...   \n",
       "2        Flower Chimp Inc.  G00000004166    P250 Worth Voucher  ...   \n",
       "3                 7-ELEVEN  G00000003067  Gulp 16oz Softdrinks  ...   \n",
       "4                 7-ELEVEN  G00000003067  Gulp 16oz Softdrinks  ...   \n",
       "...                    ...           ...                   ...  ...   \n",
       "1193451           PUREGOLD  G00000003939    P500 Worth Voucher  ...   \n",
       "1193452           PUREGOLD  G00000003939    P500 Worth Voucher  ...   \n",
       "1193453          7-ELEVEN.  G00000003345     CLiQQ Wallet P100  ...   \n",
       "1193454          7-ELEVEN.  G00000003345     CLiQQ Wallet P100  ...   \n",
       "1193455          7-ELEVEN.  G00000003345     CLiQQ Wallet P100  ...   \n",
       "\n",
       "         isFraudBlack comBuyRealTimeSendHistVOList comBuyResSendHistVOList  \\\n",
       "0                 NaN                          NaN                     NaN   \n",
       "1                 NaN                          NaN                     NaN   \n",
       "2                 NaN                          NaN                     NaN   \n",
       "3                 NaN                          NaN                     NaN   \n",
       "4                 NaN                          NaN                     NaN   \n",
       "...               ...                          ...                     ...   \n",
       "1193451           NaN                          NaN                     NaN   \n",
       "1193452           NaN                          NaN                     NaN   \n",
       "1193453           NaN                          NaN                     NaN   \n",
       "1193454           NaN                          NaN                     NaN   \n",
       "1193455           NaN                          NaN                     NaN   \n",
       "\n",
       "        clientIP                                          userAgent  \\\n",
       "0            NaN                                                NaN   \n",
       "1            NaN                                                NaN   \n",
       "2            NaN                                                NaN   \n",
       "3            NaN                                                NaN   \n",
       "4            NaN                                                NaN   \n",
       "...          ...                                                ...   \n",
       "1193451      NaN  Mozilla/5.0 (Linux; Android 6.0.1; SM-J7108 Bu...   \n",
       "1193452      NaN  Mozilla/5.0 (Linux; Android 6.0.1; SM-J7108 Bu...   \n",
       "1193453      NaN  Mozilla/5.0 (Linux; Android 8.1.0; vivo 1801 B...   \n",
       "1193454      NaN  Mozilla/5.0 (Linux; Android 8.1.0; vivo 1801 B...   \n",
       "1193455      NaN  Mozilla/5.0 (Linux; Android 8.1.0; vivo 1801 B...   \n",
       "\n",
       "        openMarketOrderId openMarketItemId isInstallment optionalResponse  \\\n",
       "0                     NaN              NaN           NaN              NaN   \n",
       "1                     NaN              NaN           NaN              NaN   \n",
       "2                     NaN              NaN           NaN              NaN   \n",
       "3                     NaN              NaN           NaN              NaN   \n",
       "4                     NaN              NaN           NaN              NaN   \n",
       "...                   ...              ...           ...              ...   \n",
       "1193451               NaN              NaN           NaN              NaN   \n",
       "1193452               NaN              NaN           NaN              NaN   \n",
       "1193453               NaN              NaN           NaN              NaN   \n",
       "1193454               NaN              NaN           NaN              NaN   \n",
       "1193455               NaN              NaN           NaN              NaN   \n",
       "\n",
       "        isfraud  \n",
       "0         False  \n",
       "1         False  \n",
       "2         False  \n",
       "3         False  \n",
       "4         False  \n",
       "...         ...  \n",
       "1193451   False  \n",
       "1193452   False  \n",
       "1193453   False  \n",
       "1193454   False  \n",
       "1193455   False  \n",
       "\n",
       "[1193456 rows x 111 columns]"
      ]
     },
     "execution_count": 214,
     "metadata": {},
     "output_type": "execute_result"
    }
   ],
   "source": [
    "# 사용하지 않는 정보를 지웁니다.\n",
    "df.drop(columns=\"mmsTitle\")\n",
    "df.drop(columns=\"pgSaleAmt\")\n",
    "df.drop(columns=\"pgSaleVat\")\n",
    "df.drop(columns=\"calStd\")\n",
    "df.drop(columns=[\"b2cBuyUserId\", \"b2cBuyUserPhoneNo\"])\n",
    "df.drop(columns=\"sc\")\n",
    "df.drop(columns=\"buyNo\")\n",
    "df.drop(columns='siteGubun')\n"
   ]
  },
  {
   "cell_type": "code",
   "execution_count": 284,
   "metadata": {},
   "outputs": [
    {
     "data": {
      "text/html": [
       "<div>\n",
       "<style scoped>\n",
       "    .dataframe tbody tr th:only-of-type {\n",
       "        vertical-align: middle;\n",
       "    }\n",
       "\n",
       "    .dataframe tbody tr th {\n",
       "        vertical-align: top;\n",
       "    }\n",
       "\n",
       "    .dataframe thead th {\n",
       "        text-align: right;\n",
       "    }\n",
       "</style>\n",
       "<table border=\"1\" class=\"dataframe\">\n",
       "  <thead>\n",
       "    <tr style=\"text-align: right;\">\n",
       "      <th></th>\n",
       "      <th>buyTotAmt</th>\n",
       "      <th>discountAmt</th>\n",
       "      <th>limitStartDate</th>\n",
       "      <th>limitEndDate</th>\n",
       "      <th>mmsTitle</th>\n",
       "      <th>mmsSendMsg</th>\n",
       "      <th>goodsDispSeq</th>\n",
       "      <th>goodsComName</th>\n",
       "      <th>goodsSeq</th>\n",
       "      <th>goodsName</th>\n",
       "      <th>...</th>\n",
       "      <th>isFraudBlack</th>\n",
       "      <th>comBuyRealTimeSendHistVOList</th>\n",
       "      <th>comBuyResSendHistVOList</th>\n",
       "      <th>clientIP</th>\n",
       "      <th>userAgent</th>\n",
       "      <th>openMarketOrderId</th>\n",
       "      <th>openMarketItemId</th>\n",
       "      <th>isInstallment</th>\n",
       "      <th>optionalResponse</th>\n",
       "      <th>isfraud</th>\n",
       "    </tr>\n",
       "  </thead>\n",
       "  <tbody>\n",
       "    <tr>\n",
       "      <th>0</th>\n",
       "      <td>3000.000</td>\n",
       "      <td>-2775.0</td>\n",
       "      <td>20190703</td>\n",
       "      <td>20190901</td>\n",
       "      <td>NaN</td>\n",
       "      <td>I love you.</td>\n",
       "      <td>10063</td>\n",
       "      <td>Flower Chimp Inc.</td>\n",
       "      <td>G00000004166</td>\n",
       "      <td>P250 Worth Voucher</td>\n",
       "      <td>...</td>\n",
       "      <td>NaN</td>\n",
       "      <td>NaN</td>\n",
       "      <td>NaN</td>\n",
       "      <td>NaN</td>\n",
       "      <td>NaN</td>\n",
       "      <td>NaN</td>\n",
       "      <td>NaN</td>\n",
       "      <td>NaN</td>\n",
       "      <td>NaN</td>\n",
       "      <td>False</td>\n",
       "    </tr>\n",
       "    <tr>\n",
       "      <th>1</th>\n",
       "      <td>3000.000</td>\n",
       "      <td>-2775.0</td>\n",
       "      <td>20190703</td>\n",
       "      <td>20190901</td>\n",
       "      <td>NaN</td>\n",
       "      <td>I love you.</td>\n",
       "      <td>10063</td>\n",
       "      <td>Flower Chimp Inc.</td>\n",
       "      <td>G00000004166</td>\n",
       "      <td>P250 Worth Voucher</td>\n",
       "      <td>...</td>\n",
       "      <td>NaN</td>\n",
       "      <td>NaN</td>\n",
       "      <td>NaN</td>\n",
       "      <td>NaN</td>\n",
       "      <td>NaN</td>\n",
       "      <td>NaN</td>\n",
       "      <td>NaN</td>\n",
       "      <td>NaN</td>\n",
       "      <td>NaN</td>\n",
       "      <td>False</td>\n",
       "    </tr>\n",
       "    <tr>\n",
       "      <th>2</th>\n",
       "      <td>3000.000</td>\n",
       "      <td>-2775.0</td>\n",
       "      <td>20190703</td>\n",
       "      <td>20190901</td>\n",
       "      <td>NaN</td>\n",
       "      <td>I love you.</td>\n",
       "      <td>10063</td>\n",
       "      <td>Flower Chimp Inc.</td>\n",
       "      <td>G00000004166</td>\n",
       "      <td>P250 Worth Voucher</td>\n",
       "      <td>...</td>\n",
       "      <td>NaN</td>\n",
       "      <td>NaN</td>\n",
       "      <td>NaN</td>\n",
       "      <td>NaN</td>\n",
       "      <td>NaN</td>\n",
       "      <td>NaN</td>\n",
       "      <td>NaN</td>\n",
       "      <td>NaN</td>\n",
       "      <td>NaN</td>\n",
       "      <td>False</td>\n",
       "    </tr>\n",
       "    <tr>\n",
       "      <th>3</th>\n",
       "      <td>35.000</td>\n",
       "      <td>0.0</td>\n",
       "      <td>20190703</td>\n",
       "      <td>20190901</td>\n",
       "      <td>NaN</td>\n",
       "      <td>Here&amp;#39;s a treat for you from Globe Sta. Mesa</td>\n",
       "      <td>7597</td>\n",
       "      <td>7-ELEVEN</td>\n",
       "      <td>G00000003067</td>\n",
       "      <td>Gulp 16oz Softdrinks</td>\n",
       "      <td>...</td>\n",
       "      <td>NaN</td>\n",
       "      <td>NaN</td>\n",
       "      <td>NaN</td>\n",
       "      <td>NaN</td>\n",
       "      <td>NaN</td>\n",
       "      <td>NaN</td>\n",
       "      <td>NaN</td>\n",
       "      <td>NaN</td>\n",
       "      <td>NaN</td>\n",
       "      <td>False</td>\n",
       "    </tr>\n",
       "    <tr>\n",
       "      <th>4</th>\n",
       "      <td>35.000</td>\n",
       "      <td>0.0</td>\n",
       "      <td>20190703</td>\n",
       "      <td>20190901</td>\n",
       "      <td>NaN</td>\n",
       "      <td>Here&amp;#39;s a treat for you from Globe Sta. Mesa</td>\n",
       "      <td>7597</td>\n",
       "      <td>7-ELEVEN</td>\n",
       "      <td>G00000003067</td>\n",
       "      <td>Gulp 16oz Softdrinks</td>\n",
       "      <td>...</td>\n",
       "      <td>NaN</td>\n",
       "      <td>NaN</td>\n",
       "      <td>NaN</td>\n",
       "      <td>NaN</td>\n",
       "      <td>NaN</td>\n",
       "      <td>NaN</td>\n",
       "      <td>NaN</td>\n",
       "      <td>NaN</td>\n",
       "      <td>NaN</td>\n",
       "      <td>False</td>\n",
       "    </tr>\n",
       "    <tr>\n",
       "      <th>...</th>\n",
       "      <td>...</td>\n",
       "      <td>...</td>\n",
       "      <td>...</td>\n",
       "      <td>...</td>\n",
       "      <td>...</td>\n",
       "      <td>...</td>\n",
       "      <td>...</td>\n",
       "      <td>...</td>\n",
       "      <td>...</td>\n",
       "      <td>...</td>\n",
       "      <td>...</td>\n",
       "      <td>...</td>\n",
       "      <td>...</td>\n",
       "      <td>...</td>\n",
       "      <td>...</td>\n",
       "      <td>...</td>\n",
       "      <td>...</td>\n",
       "      <td>...</td>\n",
       "      <td>...</td>\n",
       "      <td>...</td>\n",
       "      <td>...</td>\n",
       "    </tr>\n",
       "    <tr>\n",
       "      <th>1193451</th>\n",
       "      <td>675.000</td>\n",
       "      <td>-125.0</td>\n",
       "      <td>20190930</td>\n",
       "      <td>20191129</td>\n",
       "      <td>NaN</td>\n",
       "      <td>So glad to have you as a friend</td>\n",
       "      <td>9683</td>\n",
       "      <td>PUREGOLD</td>\n",
       "      <td>G00000003939</td>\n",
       "      <td>P500 Worth Voucher</td>\n",
       "      <td>...</td>\n",
       "      <td>NaN</td>\n",
       "      <td>NaN</td>\n",
       "      <td>NaN</td>\n",
       "      <td>NaN</td>\n",
       "      <td>Mozilla/5.0 (Linux; Android 6.0.1; SM-J7108 Bu...</td>\n",
       "      <td>NaN</td>\n",
       "      <td>NaN</td>\n",
       "      <td>NaN</td>\n",
       "      <td>NaN</td>\n",
       "      <td>False</td>\n",
       "    </tr>\n",
       "    <tr>\n",
       "      <th>1193452</th>\n",
       "      <td>675.000</td>\n",
       "      <td>-125.0</td>\n",
       "      <td>20190930</td>\n",
       "      <td>20191129</td>\n",
       "      <td>NaN</td>\n",
       "      <td>So glad to have you as a friend</td>\n",
       "      <td>9683</td>\n",
       "      <td>PUREGOLD</td>\n",
       "      <td>G00000003939</td>\n",
       "      <td>P500 Worth Voucher</td>\n",
       "      <td>...</td>\n",
       "      <td>NaN</td>\n",
       "      <td>NaN</td>\n",
       "      <td>NaN</td>\n",
       "      <td>NaN</td>\n",
       "      <td>Mozilla/5.0 (Linux; Android 6.0.1; SM-J7108 Bu...</td>\n",
       "      <td>NaN</td>\n",
       "      <td>NaN</td>\n",
       "      <td>NaN</td>\n",
       "      <td>NaN</td>\n",
       "      <td>False</td>\n",
       "    </tr>\n",
       "    <tr>\n",
       "      <th>1193453</th>\n",
       "      <td>135.000</td>\n",
       "      <td>-35.00000000000001</td>\n",
       "      <td>20190930</td>\n",
       "      <td>20200924</td>\n",
       "      <td>NaN</td>\n",
       "      <td>Don&amp;#39;t feel sad! Cheer up!</td>\n",
       "      <td>7992</td>\n",
       "      <td>7-ELEVEN.</td>\n",
       "      <td>G00000003345</td>\n",
       "      <td>CLiQQ Wallet P100</td>\n",
       "      <td>...</td>\n",
       "      <td>NaN</td>\n",
       "      <td>NaN</td>\n",
       "      <td>NaN</td>\n",
       "      <td>NaN</td>\n",
       "      <td>Mozilla/5.0 (Linux; Android 8.1.0; vivo 1801 B...</td>\n",
       "      <td>NaN</td>\n",
       "      <td>NaN</td>\n",
       "      <td>NaN</td>\n",
       "      <td>NaN</td>\n",
       "      <td>False</td>\n",
       "    </tr>\n",
       "    <tr>\n",
       "      <th>1193454</th>\n",
       "      <td>135.000</td>\n",
       "      <td>-35.0</td>\n",
       "      <td>20190930</td>\n",
       "      <td>20200924</td>\n",
       "      <td>NaN</td>\n",
       "      <td>Don&amp;#39;t feel sad! Cheer up!</td>\n",
       "      <td>7992</td>\n",
       "      <td>7-ELEVEN.</td>\n",
       "      <td>G00000003345</td>\n",
       "      <td>CLiQQ Wallet P100</td>\n",
       "      <td>...</td>\n",
       "      <td>NaN</td>\n",
       "      <td>NaN</td>\n",
       "      <td>NaN</td>\n",
       "      <td>NaN</td>\n",
       "      <td>Mozilla/5.0 (Linux; Android 8.1.0; vivo 1801 B...</td>\n",
       "      <td>NaN</td>\n",
       "      <td>NaN</td>\n",
       "      <td>NaN</td>\n",
       "      <td>NaN</td>\n",
       "      <td>False</td>\n",
       "    </tr>\n",
       "    <tr>\n",
       "      <th>1193455</th>\n",
       "      <td>135.000</td>\n",
       "      <td>-35.0</td>\n",
       "      <td>20190930</td>\n",
       "      <td>20200924</td>\n",
       "      <td>NaN</td>\n",
       "      <td>Don&amp;#39;t feel sad! Cheer up!</td>\n",
       "      <td>7992</td>\n",
       "      <td>7-ELEVEN.</td>\n",
       "      <td>G00000003345</td>\n",
       "      <td>CLiQQ Wallet P100</td>\n",
       "      <td>...</td>\n",
       "      <td>NaN</td>\n",
       "      <td>NaN</td>\n",
       "      <td>NaN</td>\n",
       "      <td>NaN</td>\n",
       "      <td>Mozilla/5.0 (Linux; Android 8.1.0; vivo 1801 B...</td>\n",
       "      <td>NaN</td>\n",
       "      <td>NaN</td>\n",
       "      <td>NaN</td>\n",
       "      <td>NaN</td>\n",
       "      <td>False</td>\n",
       "    </tr>\n",
       "  </tbody>\n",
       "</table>\n",
       "<p>1193456 rows × 111 columns</p>\n",
       "</div>"
      ],
      "text/plain": [
       "         buyTotAmt         discountAmt limitStartDate limitEndDate mmsTitle  \\\n",
       "0         3000.000             -2775.0       20190703     20190901      NaN   \n",
       "1         3000.000             -2775.0       20190703     20190901      NaN   \n",
       "2         3000.000             -2775.0       20190703     20190901      NaN   \n",
       "3           35.000                 0.0       20190703     20190901      NaN   \n",
       "4           35.000                 0.0       20190703     20190901      NaN   \n",
       "...            ...                 ...            ...          ...      ...   \n",
       "1193451    675.000              -125.0       20190930     20191129      NaN   \n",
       "1193452    675.000              -125.0       20190930     20191129      NaN   \n",
       "1193453    135.000  -35.00000000000001       20190930     20200924      NaN   \n",
       "1193454    135.000               -35.0       20190930     20200924      NaN   \n",
       "1193455    135.000               -35.0       20190930     20200924      NaN   \n",
       "\n",
       "                                              mmsSendMsg goodsDispSeq  \\\n",
       "0                                            I love you.        10063   \n",
       "1                                            I love you.        10063   \n",
       "2                                            I love you.        10063   \n",
       "3        Here&#39;s a treat for you from Globe Sta. Mesa         7597   \n",
       "4        Here&#39;s a treat for you from Globe Sta. Mesa         7597   \n",
       "...                                                  ...          ...   \n",
       "1193451                  So glad to have you as a friend         9683   \n",
       "1193452                  So glad to have you as a friend         9683   \n",
       "1193453                    Don&#39;t feel sad! Cheer up!         7992   \n",
       "1193454                    Don&#39;t feel sad! Cheer up!         7992   \n",
       "1193455                    Don&#39;t feel sad! Cheer up!         7992   \n",
       "\n",
       "              goodsComName      goodsSeq             goodsName  ...  \\\n",
       "0        Flower Chimp Inc.  G00000004166    P250 Worth Voucher  ...   \n",
       "1        Flower Chimp Inc.  G00000004166    P250 Worth Voucher  ...   \n",
       "2        Flower Chimp Inc.  G00000004166    P250 Worth Voucher  ...   \n",
       "3                 7-ELEVEN  G00000003067  Gulp 16oz Softdrinks  ...   \n",
       "4                 7-ELEVEN  G00000003067  Gulp 16oz Softdrinks  ...   \n",
       "...                    ...           ...                   ...  ...   \n",
       "1193451           PUREGOLD  G00000003939    P500 Worth Voucher  ...   \n",
       "1193452           PUREGOLD  G00000003939    P500 Worth Voucher  ...   \n",
       "1193453          7-ELEVEN.  G00000003345     CLiQQ Wallet P100  ...   \n",
       "1193454          7-ELEVEN.  G00000003345     CLiQQ Wallet P100  ...   \n",
       "1193455          7-ELEVEN.  G00000003345     CLiQQ Wallet P100  ...   \n",
       "\n",
       "         isFraudBlack comBuyRealTimeSendHistVOList comBuyResSendHistVOList  \\\n",
       "0                 NaN                          NaN                     NaN   \n",
       "1                 NaN                          NaN                     NaN   \n",
       "2                 NaN                          NaN                     NaN   \n",
       "3                 NaN                          NaN                     NaN   \n",
       "4                 NaN                          NaN                     NaN   \n",
       "...               ...                          ...                     ...   \n",
       "1193451           NaN                          NaN                     NaN   \n",
       "1193452           NaN                          NaN                     NaN   \n",
       "1193453           NaN                          NaN                     NaN   \n",
       "1193454           NaN                          NaN                     NaN   \n",
       "1193455           NaN                          NaN                     NaN   \n",
       "\n",
       "        clientIP                                          userAgent  \\\n",
       "0            NaN                                                NaN   \n",
       "1            NaN                                                NaN   \n",
       "2            NaN                                                NaN   \n",
       "3            NaN                                                NaN   \n",
       "4            NaN                                                NaN   \n",
       "...          ...                                                ...   \n",
       "1193451      NaN  Mozilla/5.0 (Linux; Android 6.0.1; SM-J7108 Bu...   \n",
       "1193452      NaN  Mozilla/5.0 (Linux; Android 6.0.1; SM-J7108 Bu...   \n",
       "1193453      NaN  Mozilla/5.0 (Linux; Android 8.1.0; vivo 1801 B...   \n",
       "1193454      NaN  Mozilla/5.0 (Linux; Android 8.1.0; vivo 1801 B...   \n",
       "1193455      NaN  Mozilla/5.0 (Linux; Android 8.1.0; vivo 1801 B...   \n",
       "\n",
       "        openMarketOrderId openMarketItemId isInstallment optionalResponse  \\\n",
       "0                     NaN              NaN           NaN              NaN   \n",
       "1                     NaN              NaN           NaN              NaN   \n",
       "2                     NaN              NaN           NaN              NaN   \n",
       "3                     NaN              NaN           NaN              NaN   \n",
       "4                     NaN              NaN           NaN              NaN   \n",
       "...                   ...              ...           ...              ...   \n",
       "1193451               NaN              NaN           NaN              NaN   \n",
       "1193452               NaN              NaN           NaN              NaN   \n",
       "1193453               NaN              NaN           NaN              NaN   \n",
       "1193454               NaN              NaN           NaN              NaN   \n",
       "1193455               NaN              NaN           NaN              NaN   \n",
       "\n",
       "        isfraud  \n",
       "0         False  \n",
       "1         False  \n",
       "2         False  \n",
       "3         False  \n",
       "4         False  \n",
       "...         ...  \n",
       "1193451   False  \n",
       "1193452   False  \n",
       "1193453   False  \n",
       "1193454   False  \n",
       "1193455   False  \n",
       "\n",
       "[1193456 rows x 111 columns]"
      ]
     },
     "execution_count": 284,
     "metadata": {},
     "output_type": "execute_result"
    }
   ],
   "source": [
    "df.drop(columns='limitDate')\n",
    "df.drop(columns=\"mmsSendType\")\n",
    "df.drop(columns=\"imgFileName\")\n",
    "df.drop(columns=\"pinMethod\")\n",
    "df.drop(columns=\"succCnt\")"
   ]
  },
  {
   "cell_type": "markdown",
   "metadata": {},
   "source": [
    "## 사기 Index 추출 "
   ]
  },
  {
   "cell_type": "code",
   "execution_count": 93,
   "metadata": {},
   "outputs": [],
   "source": [
    "# 사기 index 을 가져옵니다. \n",
    "fraud_index = df.index[df.iloc[:, -1]]\n",
    "n_fraud = len(fraud_index)"
   ]
  },
  {
   "cell_type": "code",
   "execution_count": null,
   "metadata": {},
   "outputs": [],
   "source": [
    "# Colors 을 생성합니다. \n",
    "# Fraud 는 'C0' , Normal 은 'C1' 로 되어 있습니다. \n",
    "colors = df.iloc[:, -1].astype(int).astype(str)\n",
    "colors = 'C' + colors"
   ]
  },
  {
   "cell_type": "markdown",
   "metadata": {},
   "source": [
    "## buyTotAmt : 총 구매 금액\n"
   ]
  },
  {
   "cell_type": "code",
   "execution_count": 72,
   "metadata": {},
   "outputs": [
    {
     "name": "stdout",
     "output_type": "stream",
     "text": [
      "NaN Counts : 18989\n"
     ]
    },
    {
     "data": {
      "text/plain": [
       "<matplotlib.collections.PathCollection at 0x7ff06696aba8>"
      ]
     },
     "execution_count": 72,
     "metadata": {},
     "output_type": "execute_result"
    },
    {
     "data": {
      "image/png": "[encoded data removed]",
      "text/plain": [
       "<Figure size 432x288 with 1 Axes>"
      ]
     },
     "metadata": {
      "needs_background": "light"
     },
     "output_type": "display_data"
    }
   ],
   "source": [
    "# data 에 변경할수 없는 것들이 있으면 NaN 이라고 표기하게 한다\n",
    "df.buyTotAmt = pd.to_numeric(df.buyTotAmt, errors='coerce')\n",
    "\n",
    "# buyTotAmt 의 NaN 을 책정 합니다. \n",
    "print('NaN Counts : {}'.format(df.buyTotAmt.isnull().sum()))\n",
    "\n",
    "# 시각화 합니다.\n",
    "plt.title('BuyToAmt')\n",
    "plt.scatter(df.buyTotAmt, df.buyTotAmt, c=colors)\n"
   ]
  },
  {
   "cell_type": "code",
   "execution_count": 79,
   "metadata": {},
   "outputs": [
    {
     "data": {
      "text/plain": [
       "(20.0, 10400.0, 675.0)"
      ]
     },
     "execution_count": 79,
     "metadata": {},
     "output_type": "execute_result"
    }
   ],
   "source": [
    "fraud = df.buyTotAmt.iloc[df.index[df.iloc[:, -1]]]\n",
    "# 최소값 , 최대값, 중앙값\n",
    "min(fraud), max(fraud), fraud.median()"
   ]
  },
  {
   "cell_type": "code",
   "execution_count": 81,
   "metadata": {},
   "outputs": [
    {
     "name": "stdout",
     "output_type": "stream",
     "text": [
      "buyTotAmt\n",
      "discountAmt\n",
      "limitStartDate\n",
      "limitEndDate\n",
      "mmsTitle\n",
      "mmsSendMsg\n",
      "goodsDispSeq\n",
      "goodsComName\n",
      "goodsSeq\n",
      "goodsName\n",
      "saleAmt\n",
      "saleVat\n",
      "realAmt\n",
      "realVat\n",
      "pgSaleAmt\n",
      "pgSaleVat\n",
      "goodsTotCnt\n",
      "resCustName\n",
      "resCustPhoneNo\n",
      "calStd\n",
      "b2cBuyUserId\n",
      "b2cBuyUserPhoneNo\n",
      "b2cBuyUsername\n",
      "payId\n",
      "userNo\n",
      "dispNo\n",
      "regDate\n",
      "regTime\n",
      "uptDate\n",
      "uptTime\n",
      "sc\n",
      "buyNo\n",
      "siteGubun\n",
      "redTelNo\n",
      "limitDate\n",
      "mmsSendType\n",
      "mmsSendGubun\n",
      "mmsHtml\n",
      "resDate\n",
      "resTime\n",
      "sendCnt\n",
      "imgFileName\n",
      "pinMethod\n",
      "succCnt\n",
      "mmsSendStatus\n",
      "goodsComId\n",
      "modelName\n",
      "goodsType\n",
      "purchaseAmt\n",
      "purchaseVat\n",
      "deliverAmt\n",
      "deliverVat\n",
      "b2cBuyUserArea\n",
      "b2cBuyUserSex\n",
      "b2cBuyUserAge\n",
      "b2cBuyUserTlc\n",
      "sendMassId\n",
      "sendMassName\n",
      "channelGubun\n",
      "movieFileName\n",
      "voiceFileName\n",
      "b2b2cTrId\n",
      "regId\n",
      "uptId\n",
      "stickerSeq\n",
      "earnMileage\n",
      "buyConvAmt\n",
      "loadcentralRrn\n",
      "smsBlockStatus\n",
      "msgPriority\n",
      "Unnamed: 0.1\n",
      "time\n",
      "dummy1\n",
      "ip\n",
      "type\n",
      "req_type\n",
      "dummy\n",
      "payId.1\n",
      "mode\n",
      "carrier\n",
      "brand\n",
      "payMethod\n",
      "retCode\n",
      "retMsg\n",
      "chargingAmount\n",
      "resultMessage\n",
      "resultResponse\n",
      "pgChannel\n",
      "payDt\n",
      "payTm\n",
      "buyTotalCnt\n",
      "earnMileage.1\n",
      "couponCode\n",
      "couponDiscountRate\n",
      "couponDiscountType\n",
      "instDt\n",
      "instTm\n",
      "b2cBuyHistVOList\n",
      "billingCountry\n",
      "authToken\n",
      "instId\n",
      "isFraudWhite\n",
      "isFraudBlack\n",
      "comBuyRealTimeSendHistVOList\n",
      "comBuyResSendHistVOList\n",
      "clientIP\n",
      "userAgent\n",
      "openMarketOrderId\n",
      "openMarketItemId\n",
      "isInstallment\n",
      "optionalResponse\n",
      "isfraud\n"
     ]
    }
   ],
   "source": [
    "for c in df.columns:\n",
    "    print(c)"
   ]
  },
  {
   "cell_type": "markdown",
   "metadata": {},
   "source": [
    "## mmsSendMsg : 디지털 코드 전송시에 sms 안에 추가적으로 보내지는 메세지"
   ]
  },
  {
   "cell_type": "code",
   "execution_count": 105,
   "metadata": {},
   "outputs": [
    {
     "name": "stdout",
     "output_type": "stream",
     "text": [
      "전체 메세지 : 7253\n"
     ]
    }
   ],
   "source": [
    "df.mmsSendMsg.value_counts() / len(df.mmsSendMsg)\n",
    "print('전체 메세지 : {}'.format(len(set(df.mmsSendMsg))))"
   ]
  },
  {
   "cell_type": "code",
   "execution_count": 106,
   "metadata": {},
   "outputs": [
    {
     "name": "stdout",
     "output_type": "stream",
     "text": [
      "사기 메세지 : 928\n"
     ]
    }
   ],
   "source": [
    "df.mmsSendMsg.iloc[fraud_index].value_counts() / n_fraud\n",
    "print('사기 메세지 : {}'.format(len(df.mmsSendMsg.iloc[fraud_index].value_counts())))"
   ]
  },
  {
   "cell_type": "markdown",
   "metadata": {},
   "source": [
    "## goodsDispSeq : 저희 사이트 상품 디스플레이 번호\n",
    "## goodsComName\n",
    " - 가장 사기를 많이 치는 회사 상품명은?\n",
    " "
   ]
  },
  {
   "cell_type": "code",
   "execution_count": 112,
   "metadata": {},
   "outputs": [
    {
     "data": {
      "text/plain": [
       "9684     46594\n",
       "9683     11314\n",
       "10663     7272\n",
       "7992      6114\n",
       "8058      3993\n",
       "         ...  \n",
       "12485        1\n",
       "11371        1\n",
       "9578         1\n",
       "9689         1\n",
       "12491        1\n",
       "Name: goodsDispSeq, Length: 217, dtype: int64"
      ]
     },
     "execution_count": 112,
     "metadata": {},
     "output_type": "execute_result"
    }
   ],
   "source": [
    "df.goodsDispSeq.iloc[fraud_index].value_counts()"
   ]
  },
  {
   "cell_type": "code",
   "execution_count": 115,
   "metadata": {},
   "outputs": [
    {
     "data": {
      "text/plain": [
       "7992     172480\n",
       "9684     144302\n",
       "10663    117195\n",
       "9683      93442\n",
       "8058      60657\n",
       "          ...  \n",
       "12727         1\n",
       "8302          1\n",
       "11287         1\n",
       "12726         1\n",
       "9679          1\n",
       "Name: goodsDispSeq, Length: 413, dtype: int64"
      ]
     },
     "execution_count": 115,
     "metadata": {},
     "output_type": "execute_result"
    }
   ],
   "source": [
    "df.goodsDispSeq.value_counts()"
   ]
  },
  {
   "cell_type": "markdown",
   "metadata": {},
   "source": [
    "## SaleAmt and saleVat : 세일 가격 및 세금 \n",
    "## RealAmt and RealVat : 세일전 가격 및 세금\n"
   ]
  },
  {
   "cell_type": "code",
   "execution_count": 196,
   "metadata": {},
   "outputs": [],
   "source": [
    "# 상품 전체 각 판매 가격을 문자에서 숫자형으로 바꾸기\n",
    "df.saleAmt = pd.to_numeric(df.saleAmt, errors=\"coerce\")"
   ]
  },
  {
   "cell_type": "code",
   "execution_count": 207,
   "metadata": {},
   "outputs": [
    {
     "name": "stdout",
     "output_type": "stream",
     "text": [
      "상품 전체 각 판매 가격 별 분석\n"
     ]
    },
    {
     "data": {
      "text/plain": [
       "count   1174467.000\n",
       "mean        339.234\n",
       "std         343.865\n",
       "min           0.000\n",
       "25%          89.290\n",
       "50%         267.860\n",
       "75%         491.070\n",
       "max        8928.570\n",
       "Name: saleAmt, dtype: float32"
      ]
     },
     "execution_count": 207,
     "metadata": {},
     "output_type": "execute_result"
    }
   ],
   "source": [
    "# 상품 전체 각 판매 가격 \n",
    "df.saleAmt.value_counts()\n",
    "\n",
    "pd.options.display.float_format = '{:.3f}'.format\n",
    "\n",
    "# NaN 개수 \n",
    "print('상품 전체 각 판매 가격 별 분석')\n",
    "df.saleAmt.describe().astype(np.float32)\n",
    "\n"
   ]
  },
  {
   "cell_type": "code",
   "execution_count": 159,
   "metadata": {},
   "outputs": [
    {
     "data": {
      "image/png": "[encoded data removed]",
      "text/plain": [
       "<Figure size 432x288 with 1 Axes>"
      ]
     },
     "metadata": {
      "needs_background": "light"
     },
     "output_type": "display_data"
    }
   ],
   "source": [
    "xs = df.saleAmt.iloc[fraud_index].value_counts().index\n",
    "counts = df.saleAmt.iloc[fraud_index].value_counts().values \n",
    "\n",
    "# 사기 구매 금액에 대한 ratio 을 계산한다. \n",
    "counts_ratio = counts / counts.sum()\n",
    "\n",
    "# 사기 비율이 금액이 1% 이상인것 들 \n",
    "target_xs = xs[counts_ratio > 0.01]\n",
    "target_ys = counts[counts_ratio > 0.01] \n",
    "\n",
    "# visualization\n",
    "plt.bar(target_xs, target_ys)\n",
    "ax = plt.gca()\n",
    "ax.set_xticks(np.arange(len(target_xs)))\n",
    "ax.set_xticklabels(target_xs, rotation='vertical')\n",
    "pass\n"
   ]
  },
  {
   "cell_type": "code",
   "execution_count": 208,
   "metadata": {},
   "outputs": [
    {
     "data": {
      "text/plain": [
       "count   108440.000\n",
       "mean       610.190\n",
       "std        436.061\n",
       "min         13.390\n",
       "25%        267.860\n",
       "50%        491.070\n",
       "75%        982.140\n",
       "max       8928.570\n",
       "Name: saleAmt, dtype: float64"
      ]
     },
     "execution_count": 208,
     "metadata": {},
     "output_type": "execute_result"
    }
   ],
   "source": [
    "df.saleAmt.iloc[fraud_index].describe()"
   ]
  },
  {
   "cell_type": "markdown",
   "metadata": {},
   "source": [
    "opinion) 평균적으로 사기 행동을 한 고객의 평균 및 median 금액이 일반 평균 가격보다 높다. "
   ]
  },
  {
   "cell_type": "markdown",
   "metadata": {},
   "source": [
    "## resCustName 상품을 받을 고객의 이름"
   ]
  },
  {
   "cell_type": "code",
   "execution_count": 132,
   "metadata": {},
   "outputs": [
    {
     "data": {
      "text/plain": [
       "0    NaN\\nName: resCustName, dtype: object    18986\n",
       "Francis                                       17839\n",
       "Christi                                        6442\n",
       "Darren                                         5532\n",
       "Edward                                         4784\n",
       "                                              ...  \n",
       "bryan k                                           1\n",
       "Esvin L                                           1\n",
       "Ryan Ad                                           1\n",
       "Hug muq                                           1\n",
       "Sam Con                                           1\n",
       "Name: resCustName, Length: 54341, dtype: int64"
      ]
     },
     "execution_count": 132,
     "metadata": {},
     "output_type": "execute_result"
    }
   ],
   "source": [
    "df.resCustName.value_counts()"
   ]
  },
  {
   "cell_type": "code",
   "execution_count": 209,
   "metadata": {},
   "outputs": [
    {
     "data": {
      "text/plain": [
       "0    NaN\\nName: resCustName, dtype: object    1729\n",
       "Sarah T                                        832\n",
       "daad                                           663\n",
       "Diego J                                        627\n",
       "asa                                            613\n",
       "                                              ... \n",
       "Shenchi                                          1\n",
       "Jayr Pa                                          1\n",
       "jumir                                            1\n",
       "Drew Oj                                          1\n",
       "Nikz B                                           1\n",
       "Name: resCustName, Length: 7829, dtype: int64"
      ]
     },
     "execution_count": 209,
     "metadata": {},
     "output_type": "execute_result"
    }
   ],
   "source": [
    "df.resCustName.iloc[fraud_index].value_counts()"
   ]
  },
  {
   "cell_type": "markdown",
   "metadata": {},
   "source": [
    "## resCustPhoneNo 상품을 받을 고객의 이름\n",
    "    - 같은 폰으로 다른 이름으로 물건을 구매 한다."
   ]
  },
  {
   "cell_type": "code",
   "execution_count": 211,
   "metadata": {},
   "outputs": [
    {
     "data": {
      "text/plain": [
       "0    NaN\\nName: resCustPhoneNo, dtype: object    18986\n",
       "639219810704                                      8562\n",
       "639167014227                                      7491\n",
       "639556541997                                      3662\n",
       "639363573390                                      3494\n",
       "                                                 ...  \n",
       "639983378557                                         1\n",
       "639064601454                                         1\n",
       "639981523705                                         1\n",
       "639386237045                                         1\n",
       "639069694365                                         1\n",
       "Name: resCustPhoneNo, Length: 86762, dtype: int64"
      ]
     },
     "execution_count": 211,
     "metadata": {},
     "output_type": "execute_result"
    }
   ],
   "source": [
    "df.resCustPhoneNo.value_counts()\n"
   ]
  },
  {
   "cell_type": "code",
   "execution_count": 213,
   "metadata": {},
   "outputs": [
    {
     "data": {
      "text/plain": [
       "0    NaN\\nName: resCustPhoneNo, dtype: object    1729\n",
       "639155450675                                      759\n",
       "639611812753                                      587\n",
       "639168689832                                      466\n",
       "639167014227                                      428\n",
       "                                                 ... \n",
       "639225377367                                        1\n",
       "639154627665                                        1\n",
       "639277724949                                        1\n",
       "639452279978                                        1\n",
       "639554896945                                        1\n",
       "Name: resCustPhoneNo, Length: 9391, dtype: int64"
      ]
     },
     "execution_count": 213,
     "metadata": {},
     "output_type": "execute_result"
    }
   ],
   "source": [
    "df.resCustPhoneNo.iloc[fraud_index].value_counts()"
   ]
  },
  {
   "cell_type": "markdown",
   "metadata": {},
   "source": [
    "## resCustName 상품을 받을 고객의 이름\n",
    "    - 같은 폰으로 다른 이름으로 물건을 구매 한다."
   ]
  },
  {
   "cell_type": "code",
   "execution_count": 229,
   "metadata": {},
   "outputs": [
    {
     "data": {
      "text/plain": [
       "Moretz     90\n",
       "Shini N    70\n",
       "Shayne     68\n",
       "Lucas N    49\n",
       "GM Hetf    49\n",
       "Henry N    46\n",
       "Marc Ry    44\n",
       "Karl To    43\n",
       "John Pa    42\n",
       "Ferdina    41\n",
       "Marl De    40\n",
       "Arjay R    39\n",
       "Gorge M    38\n",
       "Francis    38\n",
       "Homero     38\n",
       "Ryan Va    36\n",
       "Marc Vi    35\n",
       "Justine    34\n",
       "John Ry    33\n",
       "Maria S    30\n",
       "Ji Em      28\n",
       "Edmond     24\n",
       "Rhona M    24\n",
       "Karl An    23\n",
       "Jhayree    15\n",
       "Name: resCustName, dtype: int64"
      ]
     },
     "execution_count": 229,
     "metadata": {},
     "output_type": "execute_result"
    }
   ],
   "source": [
    "# 사기를 많이 수행한 '639155450675' 은 매우 다양한 사람에게 정보를 전달함\n",
    "df.resCustName[df.resCustPhoneNo == '639155450675'].value_counts()"
   ]
  },
  {
   "cell_type": "markdown",
   "metadata": {},
   "source": [
    "## b2cBuyUsername 구매 사용자 이름\n",
    "    - 같은 폰으로 다른 이름으로 물건을 구매 한다.\n",
    "    - 구매 사용자와 판매 사용자의 이름이 같은지 파악할수 있는 Feature 파악한다.(TODO)"
   ]
  },
  {
   "cell_type": "code",
   "execution_count": 223,
   "metadata": {},
   "outputs": [
    {
     "data": {
      "text/plain": [
       "0    NaN\\nName: b2cBuyUsername, dtype: object    18986\n",
       "Francis                                          17757\n",
       "Edward                                           12970\n",
       "Christi                                           8689\n",
       "Darren                                            5538\n",
       "                                                 ...  \n",
       "Chum Ch                                              1\n",
       "Meine S                                              1\n",
       "Jezreil                                              1\n",
       "Relly T                                              1\n",
       "Morayha                                              1\n",
       "Name: b2cBuyUsername, Length: 41361, dtype: int64"
      ]
     },
     "execution_count": 223,
     "metadata": {},
     "output_type": "execute_result"
    }
   ],
   "source": [
    "df.b2cBuyUsername.value_counts()"
   ]
  },
  {
   "cell_type": "code",
   "execution_count": 224,
   "metadata": {},
   "outputs": [
    {
     "data": {
      "text/plain": [
       "0    NaN\\nName: b2cBuyUsername, dtype: object    1729\n",
       "Sarah T                                           835\n",
       "Diego J                                           627\n",
       "Jannel                                            418\n",
       "Christi                                           409\n",
       "                                                 ... \n",
       "Ton Mos                                             1\n",
       "Dalin T                                             1\n",
       "Honesty                                             1\n",
       "Mick                                                1\n",
       "Jeana R                                             1\n",
       "Name: b2cBuyUsername, Length: 6709, dtype: int64"
      ]
     },
     "execution_count": 224,
     "metadata": {},
     "output_type": "execute_result"
    }
   ],
   "source": [
    "df.b2cBuyUsername.iloc[fraud_index].value_counts()"
   ]
  },
  {
   "cell_type": "code",
   "execution_count": 227,
   "metadata": {},
   "outputs": [
    {
     "data": {
      "text/plain": [
       "Moretz     90\n",
       "Shini N    70\n",
       "Shayne     68\n",
       "Lucas N    49\n",
       "GM Hetf    49\n",
       "Henry N    46\n",
       "Marc Ry    44\n",
       "Karl To    43\n",
       "John Pa    42\n",
       "Ferdina    41\n",
       "Marl De    40\n",
       "Arjay R    39\n",
       "Homero     38\n",
       "Gorge M    38\n",
       "Francis    38\n",
       "Ryan Va    36\n",
       "Marc Vi    35\n",
       "Justine    34\n",
       "John Ry    33\n",
       "Maria S    30\n",
       "Ji Em      28\n",
       "Rhona M    24\n",
       "Edmond     24\n",
       "Karl An    23\n",
       "Jhayree    15\n",
       "Name: b2cBuyUsername, dtype: int64"
      ]
     },
     "execution_count": 227,
     "metadata": {},
     "output_type": "execute_result"
    }
   ],
   "source": [
    "# 자기가 자기 한테 보내서 그런지 받는 사람과 보내는 사람의 이름이 똑같다. \n",
    "df.b2cBuyUsername[df.resCustPhoneNo == '639155450675'].value_counts()\n"
   ]
  },
  {
   "cell_type": "markdown",
   "metadata": {},
   "source": [
    "## PayId : 결제 번호 (1:1 matching  이여서 의미 없음)\n"
   ]
  },
  {
   "cell_type": "code",
   "execution_count": 236,
   "metadata": {},
   "outputs": [
    {
     "data": {
      "text/plain": [
       "0    NaN\\nName: payId, dtype: object    18986\n",
       "191113001113                               11\n",
       "190826000326                               10\n",
       "190724000420                                8\n",
       "200102000532                                7\n",
       "                                        ...  \n",
       "191201001838                                1\n",
       "191213002020                                1\n",
       "200108001401                                1\n",
       "200512000657                                1\n",
       "190923000905                                1\n",
       "Name: payId, Length: 496230, dtype: int64"
      ]
     },
     "execution_count": 236,
     "metadata": {},
     "output_type": "execute_result"
    }
   ],
   "source": [
    "df.payId.value_counts()"
   ]
  },
  {
   "cell_type": "markdown",
   "metadata": {},
   "source": [
    "## Userid : 유저 번호"
   ]
  },
  {
   "cell_type": "code",
   "execution_count": 240,
   "metadata": {},
   "outputs": [
    {
     "data": {
      "text/plain": [
       "0    NaN\\nName: userNo, dtype: object    18986\n",
       "111003                                   16216\n",
       "98097                                    11422\n",
       "124398                                    5419\n",
       "26172                                     3455\n",
       "                                         ...  \n",
       "179734                                       1\n",
       "128838                                       1\n",
       "117381                                       1\n",
       "140822                                       1\n",
       "167392                                       1\n",
       "Name: userNo, Length: 68278, dtype: int64"
      ]
     },
     "execution_count": 240,
     "metadata": {},
     "output_type": "execute_result"
    }
   ],
   "source": [
    "df.userNo.value_counts()"
   ]
  },
  {
   "cell_type": "code",
   "execution_count": 242,
   "metadata": {},
   "outputs": [
    {
     "data": {
      "text/plain": [
       "0    NaN\\nName: userNo, dtype: object    1729\n",
       "150713                                    835\n",
       "185547                                    418\n",
       "147380                                    322\n",
       "187661                                    209\n",
       "                                         ... \n",
       "168971                                      1\n",
       "255538                                      1\n",
       "130243                                      1\n",
       "48367                                       1\n",
       "116174                                      1\n",
       "Name: userNo, Length: 8619, dtype: int64"
      ]
     },
     "execution_count": 242,
     "metadata": {},
     "output_type": "execute_result"
    }
   ],
   "source": [
    "df.userNo.iloc[fraud_index].value_counts()"
   ]
  },
  {
   "cell_type": "markdown",
   "metadata": {},
   "source": [
    "## dispNo : 구매 메뉴 번호 (의미 없음)"
   ]
  },
  {
   "cell_type": "code",
   "execution_count": 245,
   "metadata": {},
   "outputs": [
    {
     "data": {
      "text/plain": [
       "003007                                   1171233\n",
       "0    NaN\\nName: dispNo, dtype: object      18986\n",
       "003001                                      2301\n",
       "002016001                                    489\n",
       "002011001                                    231\n",
       "002029001                                    213\n",
       "Name: dispNo, dtype: int64"
      ]
     },
     "execution_count": 245,
     "metadata": {},
     "output_type": "execute_result"
    }
   ],
   "source": [
    "df.dispNo.value_counts()"
   ]
  },
  {
   "cell_type": "code",
   "execution_count": 244,
   "metadata": {},
   "outputs": [
    {
     "data": {
      "text/plain": [
       "003007                                   108373\n",
       "0    NaN\\nName: dispNo, dtype: object      1729\n",
       "003001                                       63\n",
       "002016001                                     4\n",
       "Name: dispNo, dtype: int64"
      ]
     },
     "execution_count": 244,
     "metadata": {},
     "output_type": "execute_result"
    }
   ],
   "source": [
    "df.dispNo.iloc[fraud_index].value_counts()"
   ]
  },
  {
   "cell_type": "markdown",
   "metadata": {},
   "source": [
    "##  BuyNo : 결제 번호 : 모든 값이 1 => 의미 없음"
   ]
  },
  {
   "cell_type": "code",
   "execution_count": 252,
   "metadata": {},
   "outputs": [
    {
     "data": {
      "text/plain": [
       "200418001087    1\n",
       "191023001095    1\n",
       "200424001407    1\n",
       "191211000118    1\n",
       "190929001140    1\n",
       "               ..\n",
       "190811000942    1\n",
       "200215001901    1\n",
       "191002000102    1\n",
       "191212002238    1\n",
       "191021001862    1\n",
       "Name: buyNo, Length: 61507, dtype: int64"
      ]
     },
     "execution_count": 252,
     "metadata": {},
     "output_type": "execute_result"
    }
   ],
   "source": [
    "df.buyNo.value_counts()"
   ]
  },
  {
   "cell_type": "markdown",
   "metadata": {},
   "source": [
    "##  RealTelNo :  받는 사람 전화번호 : 모두 Null 의미 없음"
   ]
  },
  {
   "cell_type": "code",
   "execution_count": 264,
   "metadata": {},
   "outputs": [
    {
     "data": {
      "text/plain": [
       "True     1174470\n",
       "False      18986\n",
       "Name: redTelNo, dtype: int64"
      ]
     },
     "execution_count": 264,
     "metadata": {},
     "output_type": "execute_result"
    }
   ],
   "source": [
    "df.redTelNo.isna().value_counts()"
   ]
  },
  {
   "cell_type": "markdown",
   "metadata": {},
   "source": [
    "##  mmsSendGubun :  즉시 전송, 예약 전송"
   ]
  },
  {
   "cell_type": "code",
   "execution_count": 279,
   "metadata": {},
   "outputs": [
    {
     "data": {
      "text/plain": [
       "True     1112963\n",
       "False      80493\n",
       "Name: mmsHtml, dtype: int64"
      ]
     },
     "execution_count": 279,
     "metadata": {},
     "output_type": "execute_result"
    }
   ],
   "source": [
    "# 대부분이 NaN 값이고 특정한 row 에 값이 들어가 있다. \n",
    "df.mmsHtml.isna().value_counts()"
   ]
  },
  {
   "cell_type": "code",
   "execution_count": 271,
   "metadata": {},
   "outputs": [
    {
     "data": {
      "text/plain": [
       "1                                              60330\n",
       "0    NaN\\nName: mmsSendGubun, dtype: object    18986\n",
       "2                                               1177\n",
       "Name: mmsSendGubun, dtype: int64"
      ]
     },
     "execution_count": 271,
     "metadata": {},
     "output_type": "execute_result"
    }
   ],
   "source": [
    "df.mmsSendGubun.value_counts()\n"
   ]
  },
  {
   "cell_type": "code",
   "execution_count": 272,
   "metadata": {},
   "outputs": [
    {
     "data": {
      "text/plain": [
       "1                                              9970\n",
       "0    NaN\\nName: mmsSendGubun, dtype: object    1729\n",
       "2                                                42\n",
       "Name: mmsSendGubun, dtype: int64"
      ]
     },
     "execution_count": 272,
     "metadata": {},
     "output_type": "execute_result"
    }
   ],
   "source": [
    "df.mmsSendGubun.iloc[fraud_index].value_counts()"
   ]
  },
  {
   "cell_type": "markdown",
   "metadata": {},
   "source": [
    "##  df.mmsHtml 상품의 추가 설명 "
   ]
  },
  {
   "cell_type": "code",
   "execution_count": 280,
   "metadata": {},
   "outputs": [
    {
     "data": {
      "text/plain": [
       "True     1112963\n",
       "False      80493\n",
       "Name: mmsHtml, dtype: int64"
      ]
     },
     "execution_count": 280,
     "metadata": {},
     "output_type": "execute_result"
    }
   ],
   "source": [
    "# 대부분이 NaN 값이고 특정한 row 에 값이 들어가 있다. , mmsSendGubun 과 동일하다. \n",
    "# 특정 버전 이후 도입된 Feature 인듯 \n",
    "df.mmsHtml.isna().value_counts()"
   ]
  },
  {
   "cell_type": "code",
   "execution_count": 281,
   "metadata": {},
   "outputs": [
    {
     "data": {
      "text/plain": [
       "0    NaN\\nName: mmsHtml, dtype: object    18986\n",
       "Thank you for the love.                    5530\n",
       "Happy to be your friend.                   4119\n",
       "Please keep washing your hands             2979\n",
       "Let's hang out my friend!                  2347\n",
       "                                          ...  \n",
       "Yehey! Let's go to the beach.                 1\n",
       "Let's make more memories together.            1\n",
       "Please keep safe!                             1\n",
       "A Christmas wish is sent to you.              1\n",
       "No one can top you as my friend!              1\n",
       "Name: mmsHtml, Length: 1078, dtype: int64"
      ]
     },
     "execution_count": 281,
     "metadata": {},
     "output_type": "execute_result"
    }
   ],
   "source": [
    "df.mmsHtml.value_counts()"
   ]
  },
  {
   "cell_type": "markdown",
   "metadata": {},
   "source": [
    "## mmsSendStatus : sms 전송 상태"
   ]
  },
  {
   "cell_type": "code",
   "execution_count": 285,
   "metadata": {},
   "outputs": [
    {
     "data": {
      "text/plain": [
       "True     1112963\n",
       "False      80493\n",
       "Name: mmsSendStatus, dtype: int64"
      ]
     },
     "execution_count": 285,
     "metadata": {},
     "output_type": "execute_result"
    }
   ],
   "source": [
    "# 대부분이 NaN 값이고 특정한 row 에 값이 들어가 있다. , mmsSendGubun 과 동일하다. \n",
    "# 특정 버전 이후 도입된 Feature 인듯 \n",
    "df.mmsSendStatus.isna().value_counts()"
   ]
  },
  {
   "cell_type": "code",
   "execution_count": 286,
   "metadata": {},
   "outputs": [
    {
     "data": {
      "text/plain": [
       "2                                               10012\n",
       "0    NaN\\nName: mmsSendStatus, dtype: object     1729\n",
       "Name: mmsSendStatus, dtype: int64"
      ]
     },
     "execution_count": 286,
     "metadata": {},
     "output_type": "execute_result"
    }
   ],
   "source": [
    "df.mmsSendStatus.iloc[fraud_index].value_counts()"
   ]
  },
  {
   "cell_type": "code",
   "execution_count": 287,
   "metadata": {},
   "outputs": [
    {
     "data": {
      "text/plain": [
       "2                                               61507\n",
       "0    NaN\\nName: mmsSendStatus, dtype: object    18986\n",
       "Name: mmsSendStatus, dtype: int64"
      ]
     },
     "execution_count": 287,
     "metadata": {},
     "output_type": "execute_result"
    }
   ],
   "source": [
    "df.mmsSendStatus.value_counts()"
   ]
  },
  {
   "cell_type": "code",
   "execution_count": null,
   "metadata": {},
   "outputs": [],
   "source": []
  }
 ],
 "metadata": {
  "kernelspec": {
   "display_name": "python3",
   "language": "python",
   "name": "python3"
  },
  "language_info": {
   "codemirror_mode": {
    "name": "ipython",
    "version": 3
   },
   "file_extension": ".py",
   "mimetype": "text/x-python",
   "name": "python",
   "nbconvert_exporter": "python",
   "pygments_lexer": "ipython3",
   "version": "3.6.8"
  }
 },
 "nbformat": 4,
 "nbformat_minor": 2
}
