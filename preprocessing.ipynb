{
 "cells": [
  {
   "cell_type": "code",
   "execution_count": 5,
   "metadata": {},
   "outputs": [
    {
     "name": "stdout",
     "output_type": "stream",
     "text": [
      "62622\n",
      "62621\n"
     ]
    }
   ],
   "source": [
    "file = \"./payment-11-logs/payment-11-logs/payment-201907.txt\"\n",
    "f = open(file, encoding='UTF-8')\n",
    "lines = f.readlines()\n",
    "print(len(lines))\n",
    "del(lines[20098])\n",
    "print(len(lines))\n",
    "f.close()\n"
   ]
  },
  {
   "cell_type": "code",
   "execution_count": 7,
   "metadata": {},
   "outputs": [],
   "source": [
    "new_file = \"./payment-11-logs/payment-11-logs/new_payment-201907.txt\"\n",
    "f = open(new_file, encoding='UTF-8', mode='w')\n",
    "for line in lines:\n",
    "    f.write(line)    \n",
    "f.close()\n",
    "\n",
    "\n",
    "\n"
   ]
  },
  {
   "cell_type": "code",
   "execution_count": null,
   "metadata": {},
   "outputs": [],
   "source": []
  }
 ],
 "metadata": {
  "kernelspec": {
   "display_name": "python3",
   "language": "python",
   "name": "python3"
  },
  "language_info": {
   "codemirror_mode": {
    "name": "ipython",
    "version": 3
   },
   "file_extension": ".py",
   "mimetype": "text/x-python",
   "name": "python",
   "nbconvert_exporter": "python",
   "pygments_lexer": "ipython3",
   "version": "3.6.8"
  }
 },
 "nbformat": 4,
 "nbformat_minor": 2
}
