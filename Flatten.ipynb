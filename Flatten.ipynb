{
 "cells": [
  {
   "cell_type": "code",
   "execution_count": 1,
   "metadata": {},
   "outputs": [],
   "source": [
    "import pandas as pd\n",
    "from collections import Counter\n",
    "import numpy as np\n",
    "from tqdm import tqdm"
   ]
  },
  {
   "cell_type": "code",
   "execution_count": 2,
   "metadata": {},
   "outputs": [
    {
     "name": "stderr",
     "output_type": "stream",
     "text": [
      "/Users/seongjungkim/anaconda3/envs/python3/lib/python3.6/site-packages/IPython/core/interactiveshell.py:3057: DtypeWarning: Columns (2,4,7,11,12,14,18,19,20,21,22,23,24,25,26,29,36,37,38,39,40) have mixed types.Specify dtype option on import or set low_memory=False.\n",
      "  interactivity=interactivity, compiler=compiler, result=result)\n"
     ]
    }
   ],
   "source": [
    "df = pd.read_csv(\"merged_fraud_ip.csv\")"
   ]
  },
  {
   "cell_type": "code",
   "execution_count": 3,
   "metadata": {},
   "outputs": [
    {
     "name": "stdout",
     "output_type": "stream",
     "text": [
      "Index(['Unnamed: 0', 'time', 'dummy1', 'ip', 'type', 'req_type', 'dummy',\n",
      "       'payId', 'mode', 'carrier', 'brand', 'payMethod', 'retCode', 'retMsg',\n",
      "       'chargingAmount', 'resultMessage', 'resultResponse', 'pgChannel',\n",
      "       'payDt', 'payTm', 'buyTotalCnt', 'earnMileage', 'couponCode',\n",
      "       'couponDiscountRate', 'couponDiscountType', 'instDt', 'instTm',\n",
      "       'b2cBuyHistVOList', 'billingCountry', 'authToken', 'instId',\n",
      "       'isFraudWhite', 'isFraudBlack', 'comBuyRealTimeSendHistVOList',\n",
      "       'comBuyResSendHistVOList', 'clientIP', 'userAgent', 'openMarketOrderId',\n",
      "       'openMarketItemId', 'isInstallment', 'optionalResponse', 'isfraud'],\n",
      "      dtype='object')\n"
     ]
    }
   ],
   "source": [
    "print(df.columns)"
   ]
  },
  {
   "cell_type": "code",
   "execution_count": 4,
   "metadata": {},
   "outputs": [
    {
     "data": {
      "text/plain": [
       "100.0                 218\n",
       "couponDiscountRate     11\n",
       "77.0                    1\n",
       "Name: couponDiscountRate, dtype: int64"
      ]
     },
     "execution_count": 4,
     "metadata": {},
     "output_type": "execute_result"
    }
   ],
   "source": [
    "df.couponDiscountRate.value_counts()"
   ]
  },
  {
   "cell_type": "code",
   "execution_count": 5,
   "metadata": {},
   "outputs": [],
   "source": [
    "def fn(x):\n",
    "    try:\n",
    "        # list 껍질을 제거 한다\n",
    "        # [{x}] => x \n",
    "        return eval(x)[0]\n",
    "    except:\n",
    "        # 예외 값으로는 nan, b2cBuyHistVOList 가 있다. \n",
    "        return x\n",
    "    "
   ]
  },
  {
   "cell_type": "code",
   "execution_count": 6,
   "metadata": {},
   "outputs": [],
   "source": [
    "buyhist_df = df.b2cBuyHistVOList.apply(fn)"
   ]
  },
  {
   "cell_type": "code",
   "execution_count": 7,
   "metadata": {},
   "outputs": [],
   "source": [
    "columns = [] \n",
    "for df in buyhist_df:\n",
    "    try:\n",
    "        columns.extend(df.keys())\n",
    "    except:\n",
    "        pass    \n",
    "columns = set(columns)"
   ]
  },
  {
   "cell_type": "code",
   "execution_count": 8,
   "metadata": {},
   "outputs": [
    {
     "name": "stderr",
     "output_type": "stream",
     "text": [
      "1193456it [01:06, 17935.13it/s]\n"
     ]
    }
   ],
   "source": [
    "merged_df = []\n",
    "for ind,df in tqdm(enumerate(buyhist_df)):\n",
    "    if type(df) == np.float:\n",
    "        df = pd.DataFrame(columns=columns, index=[0])\n",
    "    if type(df) == str:\n",
    "        df = pd.DataFrame(columns=columns, index=[0])\n",
    "\n",
    "    merged_df.append(df)\n"
   ]
  },
  {
   "cell_type": "code",
   "execution_count": 13,
   "metadata": {},
   "outputs": [],
   "source": [
    "new_df = pd.DataFrame(merged_df)"
   ]
  },
  {
   "cell_type": "code",
   "execution_count": 14,
   "metadata": {},
   "outputs": [
    {
     "name": "stderr",
     "output_type": "stream",
     "text": [
      "/Users/seongjungkim/anaconda3/envs/python3/lib/python3.6/site-packages/IPython/core/interactiveshell.py:3057: DtypeWarning: Columns (2,4,7,11,12,14,18,19,20,21,22,23,24,25,26,29,36,37,38,39,40) have mixed types.Specify dtype option on import or set low_memory=False.\n",
      "  interactivity=interactivity, compiler=compiler, result=result)\n"
     ]
    }
   ],
   "source": [
    "df = pd.read_csv(\"merged_fraud_ip.csv\")"
   ]
  },
  {
   "cell_type": "code",
   "execution_count": 21,
   "metadata": {},
   "outputs": [],
   "source": [
    "final_df = pd.concat([new_df, df], axis=1)"
   ]
  },
  {
   "cell_type": "code",
   "execution_count": 23,
   "metadata": {},
   "outputs": [],
   "source": [
    "final_df.to_csv('final_df.csv')"
   ]
  },
  {
   "cell_type": "code",
   "execution_count": null,
   "metadata": {},
   "outputs": [],
   "source": []
  }
 ],
 "metadata": {
  "kernelspec": {
   "display_name": "python3",
   "language": "python",
   "name": "python3"
  },
  "language_info": {
   "codemirror_mode": {
    "name": "ipython",
    "version": 3
   },
   "file_extension": ".py",
   "mimetype": "text/x-python",
   "name": "python",
   "nbconvert_exporter": "python",
   "pygments_lexer": "ipython3",
   "version": "3.6.8"
  }
 },
 "nbformat": 4,
 "nbformat_minor": 2
}
